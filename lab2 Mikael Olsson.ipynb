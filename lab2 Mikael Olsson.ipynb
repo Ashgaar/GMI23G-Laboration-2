{
 "cells": [
  {
   "cell_type": "markdown",
   "metadata": {},
   "source": [
    "# GMI23G Logic and Mathematics for Computer Science\n",
    "## Dalarna University, spring 2022\n",
    "\n",
    "# Python Lab 2/4\n",
    "### Deadline: February 24, 2022, 23:59 CET time\n",
    "\n",
    "### Student name: Mikael Olsson\n",
    "### DU email address: h20mikol"
   ]
  },
  {
   "cell_type": "markdown",
   "metadata": {},
   "source": [
    "Note that in several of the exercises you will do over the next weeks, the integers you are dealing with get quite big. You might need to use long integers, otherwise you will be a bit restricted."
   ]
  },
  {
   "cell_type": "markdown",
   "metadata": {},
   "source": [
    "To pass the lab, you will need to write and hand in this Jupyter Notebook with your comments and your Python code added to it. Describe what you did and what conclusions you have been able to make. Try to relate to the theoretical material on the course. Use Markdown cells to add descriptions in English. Also add comments to your Python code cells.\n",
    "\n",
    "Submit the lab to Learn with file name format “labX firstname lastname studentid.rar”, e.g., “lab1 lars larsson v21abcde.rar”, with both the .ipynb file and the corresponding .pdf file compressed into one .rar file. There is an option to download the notebook in .pdf format in the File menu.\n",
    "\n",
    "A folder to upload solutions will be opened on Learn soon."
   ]
  },
  {
   "cell_type": "markdown",
   "metadata": {},
   "source": [
    "## Task 1"
   ]
  },
  {
   "cell_type": "markdown",
   "metadata": {},
   "source": [
    "Use Sage Python, to compute Fibonacci series $F_n = F_{n-1} + F_{n-2}$ and print the first 10 Fibonacci numbers $F_n$ with $n\\in\\{0,9\\}$. Also print the TotalSum of those numbers.   "
   ]
  },
  {
   "cell_type": "markdown",
   "metadata": {},
   "source": [
    "Enter your comments on how you solved the task here (in English): I used the built-in fibonacci methods to solve this assignment. I looped over the sequence I created to get the sum."
   ]
  },
  {
   "cell_type": "code",
   "execution_count": 10,
   "metadata": {},
   "outputs": [
    {
     "name": "stdout",
     "output_type": "stream",
     "text": [
      "The sequence goes as follows [0, 1, 1, 2, 3, 5, 8, 13, 21, 34]\n",
      "The sum of the sequence is 88\n"
     ]
    }
   ],
   "source": [
    "sequence = [i for i in fibonacci_sequence(0, 10)]\n",
    "print(f'The sequence goes as follows {sequence}')\n",
    "sum = 0\n",
    "for i in sequence:\n",
    "    sum += i\n",
    "print(f'The sum of the sequence is {sum}')"
   ]
  },
  {
   "cell_type": "markdown",
   "metadata": {},
   "source": [
    "## Task 2"
   ]
  },
  {
   "cell_type": "markdown",
   "metadata": {},
   "source": [
    "Write an iterative program which computes the Fibonacci series $F_n = F_{n-1} + F_{n-2}$, with initial conditions $F_0 = 1$, and $F_1 = 1$. Write a for-loop and print the 10 first Fibonacci numbers $F_n$ with $n\\in\\{0,9\\}$. Also calculate the processing time of the algorithm."
   ]
  },
  {
   "cell_type": "markdown",
   "metadata": {},
   "source": [
    "Enter your comments on how you solved the task here (in English): Generating the fibonacci series is quite simple, you always add the two last numbers to get the new one and continue on and on."
   ]
  },
  {
   "cell_type": "code",
   "execution_count": 18,
   "metadata": {},
   "outputs": [
    {
     "name": "stdout",
     "output_type": "stream",
     "text": [
      "The sequence goes as follows:\n",
      "1\n",
      "1\n",
      "2\n",
      "3\n",
      "5\n",
      "8\n",
      "13\n",
      "21\n",
      "34\n",
      "55\n",
      "The cputime is 0.0 and the walltime is 0.0008378028869628906\n"
     ]
    }
   ],
   "source": [
    "from sage.doctest.util import Timer\n",
    "\n",
    "def fibonacci(n):\n",
    "    if n == 1:\n",
    "        return n\n",
    "    else:\n",
    "        X = 1\n",
    "        Y = 1\n",
    "        for k in [2..n]:\n",
    "            Z = X +Y\n",
    "            X = Y\n",
    "            Y = Z\n",
    "        return Y\n",
    "    \n",
    "print(f'The sequence goes as follows:')\n",
    "timer = Timer().start()\n",
    "for i in range (10):\n",
    "    print(fibonacci(i))\n",
    "timer.stop()\n",
    "\n",
    "print(f'The cputime is {timer.cputime} and the walltime is {timer.walltime}')"
   ]
  },
  {
   "cell_type": "markdown",
   "metadata": {},
   "source": [
    "## Task 3"
   ]
  },
  {
   "cell_type": "markdown",
   "metadata": {},
   "source": [
    "Determine if the boolean expression $((a|b)&c)$ is $satisfiable$, $tautology$ or $contradiction$.                                  "
   ]
  },
  {
   "cell_type": "markdown",
   "metadata": {},
   "source": [
    "Enter your comments on how you solved the task here (in English): To determine what it is we have to look at the outcomes from a truth table. I create a truth table and analyze th results. For it to be a tautology every single outcome should result in the value column on displaying True, while a contradiction would show False. This then means that it has to be Satisfiable."
   ]
  },
  {
   "cell_type": "code",
   "execution_count": 20,
   "metadata": {},
   "outputs": [
    {
     "data": {
      "text/plain": [
       "a      b      c      value\n",
       "False  False  False  False  \n",
       "False  False  True   False  \n",
       "False  True   False  False  \n",
       "False  True   True   True   \n",
       "True   False  False  False  \n",
       "True   False  True   True   \n",
       "True   True   False  False  \n",
       "True   True   True   True   \n"
      ]
     },
     "execution_count": 20,
     "metadata": {},
     "output_type": "execute_result"
    }
   ],
   "source": [
    "# Enter your code here:)\n",
    "f = propcalc.formula(\"((a|b)&c)\")\n",
    "f.truthtable()"
   ]
  },
  {
   "cell_type": "markdown",
   "metadata": {},
   "source": [
    "## Task 4 "
   ]
  },
  {
   "cell_type": "markdown",
   "metadata": {},
   "source": [
    "Investigate the periodicity of the last two digits of the Fibonacci series. Does the series eventually repeat itself?"
   ]
  },
  {
   "cell_type": "markdown",
   "metadata": {},
   "source": [
    "Hint: To investigate this, even long integers will be too small. However you can get around the problem by using modulo arithmetic (i.e. if you work in modulo 100, you are only keeping the last two digits in store)."
   ]
  },
  {
   "cell_type": "markdown",
   "metadata": {},
   "source": [
    "Enter your comments on how you solved the task here (in English): In a fibonacci series we can see that it always starts with 0 then 1, therefore every repetition will start with 0 and 1. We then generate a fibonacci sequence with n = 1000 and check at what interval we find a 0 followed by a 1. This leaves us with an interval of 300 per repition if you use m = 100.\n"
   ]
  },
  {
   "cell_type": "code",
   "execution_count": 101,
   "metadata": {},
   "outputs": [
    {
     "name": "stdout",
     "output_type": "stream",
     "text": [
      "1\n",
      "301\n",
      "601\n",
      "901\n"
     ]
    }
   ],
   "source": [
    "f = fibonacci_sequence(1000)\n",
    "\n",
    "listRepetition = []\n",
    "step = 0\n",
    "prev = 0\n",
    "for i in f:\n",
    "    step += 1\n",
    "    curr = i % 100\n",
    "    if curr == 1 and prev == 0:\n",
    "        listRepetition.append(step-1)\n",
    "    #print(step,curr)\n",
    "    prev = curr\n",
    "\n",
    "for i in listRepetition:\n",
    "    print( i)"
   ]
  },
  {
   "cell_type": "markdown",
   "metadata": {},
   "source": [
    "## Task 5"
   ]
  },
  {
   "cell_type": "markdown",
   "metadata": {},
   "source": [
    "Write a program of 'Euclidean Algorithm' i.e., used to calculate GCD \n",
    "between $2$ numeric numbers. Use that to calculate GCD of any $2$ numbers. \n",
    "\n",
    "* Donot use the direct $gcd$ function in sageMath. \n"
   ]
  },
  {
   "cell_type": "markdown",
   "metadata": {},
   "source": [
    "Enter your comments on how you solved the task here (in English): The euclidean algorithm has some simple steps that are easily reproduced. The code loops through and calculates the rest until it has reached 0 at which you return what the last rest was before it was 0. This follows the euclidean algorithm and gives you the greatest common divisor."
   ]
  },
  {
   "cell_type": "code",
   "execution_count": 85,
   "metadata": {},
   "outputs": [
    {
     "name": "stdout",
     "output_type": "stream",
     "text": [
      "63 156\n",
      "156 63\n",
      "63 30\n",
      "30 3\n",
      "The GCD is : 3\n"
     ]
    }
   ],
   "source": [
    "def euclidean(x,y):\n",
    "    if y==0:\n",
    "        return x\n",
    "    else:\n",
    "        print(x,y)\n",
    "        return euclidean(y,x%y)\n",
    "    \n",
    "f = euclidean(63,156)   \n",
    "\n",
    "print(f'The GCD is : {f}')\n"
   ]
  }
 ],
 "metadata": {
  "kernelspec": {
   "display_name": "SageMath 9.3",
   "language": "sage",
   "name": "sagemath"
  },
  "language_info": {
   "codemirror_mode": {
    "name": "ipython",
    "version": 3
   },
   "file_extension": ".py",
   "mimetype": "text/x-python",
   "name": "python",
   "nbconvert_exporter": "python",
   "pygments_lexer": "ipython3",
   "version": "3.7.10"
  }
 },
 "nbformat": 4,
 "nbformat_minor": 4
}
